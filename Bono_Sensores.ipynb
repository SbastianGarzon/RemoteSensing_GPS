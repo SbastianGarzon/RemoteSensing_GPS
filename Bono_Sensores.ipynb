{
 "cells": [
  {
   "cell_type": "code",
   "execution_count": 100,
   "metadata": {
    "collapsed": false
   },
   "outputs": [
    {
     "name": "stdout",
     "output_type": "stream",
     "text": [
      "Las coordenadas ingresadas en ECEF son: \n",
      "\n",
      "X=1746109.526(m)\n",
      "Y=-6116021.8916(m)\n",
      "Z=508391.7427(m)\n",
      "\n",
      "Estas coordenadas corresponden en sistema WGS84 a: \n",
      "\n",
      "Latitud: 4.600638888748947°\n",
      "Longitud: -74.06608333335762°\n",
      "Ellipsoid Eight: 2680.0000199778005(m)\n"
     ]
    }
   ],
   "source": [
    "#Universidad de los Andes\n",
    "#Remote senging\n",
    "#Juan Sebastian Garzón Alvarado\n",
    "\n",
    "import math\n",
    "# -*- coding: utf-8 -*-\n",
    "\n",
    "# Ponga sus coordenadas ECEF(EarthCentered Earth-Fixed) que desea transformar a WGS84\n",
    "\n",
    "X=1746109.5260\n",
    "Y=-6116021.8916\n",
    "Z=508391.7427\n",
    "\n",
    "#Parámetros\n",
    "# semi-mayor axis\n",
    "a= 6378137  \n",
    "# Semi-minor axis\n",
    "b=6356752.3142\n",
    "\n",
    "##Calculos\n",
    "\n",
    "#Polar flattening:\n",
    "f= (a-b)/a\n",
    "#Eccentrity:\n",
    "e= ((a**2)-(b**2))**(0.5)/a\n",
    "#Epsilon\n",
    "ep=e**2/(1-e**2)\n",
    "#P\n",
    "p=((X**2)+(Y**2))**(0.5)\n",
    "#q\n",
    "q=math.atan((Z*a)/(p*b))\n",
    "#Resultado:\n",
    "lat=math.atan((Z+ep*b*math.sin(q)**3)/(p-((e**2)*a*math.cos(q)**3)))\n",
    "#Meriduan radius \n",
    "N=a/(1-(e**2)*((math.sin(lat))**2))**(0.5)\n",
    "lon=math.atan(Y/X)\n",
    "h=X*(1/math.cos(lon))*(1/math.cos(lat))-N\n",
    "\n",
    "print ('Las coordenadas ingresadas en ECEF son: \\n'+'\\nX='+str(X)+'(m)'+'\\nY='+str(Y)+'(m)'+'\\nZ='+str(Z)+'(m)\\n'+'\\nEstas coordenadas corresponden en sistema WGS84 a: \\n'+'\\nLatitud: '+ str(math.degrees(lat))+'°'+ '\\nLongitud: '+ str(math.degrees(lon))+'°'+'\\nEllipsoid Eight: '+ str(h)+'(m)')\n"
   ]
  },
  {
   "cell_type": "code",
   "execution_count": null,
   "metadata": {
    "collapsed": false
   },
   "outputs": [],
   "source": []
  },
  {
   "cell_type": "code",
   "execution_count": null,
   "metadata": {
    "collapsed": false
   },
   "outputs": [],
   "source": []
  },
  {
   "cell_type": "code",
   "execution_count": null,
   "metadata": {
    "collapsed": true
   },
   "outputs": [],
   "source": []
  },
  {
   "cell_type": "code",
   "execution_count": null,
   "metadata": {
    "collapsed": true
   },
   "outputs": [],
   "source": []
  }
 ],
 "metadata": {
  "kernelspec": {
   "display_name": "Python 3",
   "language": "python",
   "name": "python3"
  },
  "language_info": {
   "codemirror_mode": {
    "name": "ipython",
    "version": 3
   },
   "file_extension": ".py",
   "mimetype": "text/x-python",
   "name": "python",
   "nbconvert_exporter": "python",
   "pygments_lexer": "ipython3",
   "version": "3.4.3"
  }
 },
 "nbformat": 4,
 "nbformat_minor": 0
}
